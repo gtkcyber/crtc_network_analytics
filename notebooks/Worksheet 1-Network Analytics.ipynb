{
 "cells": [
  {
   "cell_type": "markdown",
   "id": "d49d1a39",
   "metadata": {},
   "source": [
    "<img src=\"../img/GTK_Logo_Social Icon.jpg\" width=175 align=\"right\" />\n",
    "\n",
    "# Worksheet 1: Network Analytics \n",
    "\n",
    "In this worksheet, you will try out some of the techniques used for network analysis using Python.  It should take approximate 20-30 minutes to complete. \n",
    "\n",
    "## Import the Libraries\n",
    "\n",
    "This worksheet will use the following modules:\n",
    "* `dnsparse`: https://dnspython.readthedocs.io/en/latest/\n",
    "* `python-whois`: https://pypi.org/project/python-whois/\n",
    "* `ip2geotools`: https://github.com/tomas-net/ip2geotools\n"
   ]
  },
  {
   "cell_type": "code",
   "execution_count": null,
   "id": "735f4288",
   "metadata": {
    "ExecuteTime": {
     "end_time": "2023-03-24T22:09:35.114543Z",
     "start_time": "2023-03-24T22:09:35.111521Z"
    }
   },
   "outputs": [],
   "source": [
    "# Run me first\n",
    "import whois\n",
    "import csv\n",
    "import dns.resolver, dns.reversename, dns.query, dns.zone\n",
    "from ip2geotools.databases.noncommercial import DbIpCity"
   ]
  },
  {
   "cell_type": "markdown",
   "id": "697e96ad",
   "metadata": {},
   "source": [
    "## Challege 1: Geolocating an Email Server\n",
    "In this challenge, you have a domain and you will use network analytic tools to geolocate the mail server.  Let's use cnn.com as a target.  Feel free to pick another target.\n",
    "\n",
    "### Step 1:  Get the MX records\n",
    "For the first step, execute a DNS query to retrieve the MX records for your domain.  To do this, use `dns.resolver.resolve` from `dnsparse` and get the MX records for that domain. Print out the MX records.  Remember there may be more than one."
   ]
  },
  {
   "cell_type": "code",
   "execution_count": null,
   "id": "7769657d",
   "metadata": {},
   "outputs": [],
   "source": [
    "# Your code here..."
   ]
  },
  {
   "cell_type": "markdown",
   "id": "2437838b",
   "metadata": {},
   "source": [
    "### Step 2:  Get the MX Servers' A Records\n",
    "\n",
    "If this worked, you should now have the mail server(s) for your domain.  Next, let's attempt to find the IP addresses associated with these servers.  We will accomplish that by executing another DNS query, but this time, we'll look for the `A` record.  Remember, we want the `A` record for the MX server, not the domain."
   ]
  },
  {
   "cell_type": "code",
   "execution_count": null,
   "id": "9b2a4c36",
   "metadata": {},
   "outputs": [],
   "source": [
    "# Your code here..."
   ]
  },
  {
   "cell_type": "markdown",
   "id": "65e34652",
   "metadata": {},
   "source": [
    "### Step 3:  Geolocate the MX Servers\n",
    "Using the module `ip2geotools`, let's attempt to geolocate these IP addresses. The snippet below will geolocate an IP address:\n",
    "\n",
    "```python\n",
    "response = DbIpCity.get(str(<ip address>), api_key='free')\n",
    "```\n",
    "\n",
    "Once you have the `response` you can extract the various components of that response."
   ]
  },
  {
   "cell_type": "code",
   "execution_count": null,
   "id": "7ce23d8f",
   "metadata": {},
   "outputs": [],
   "source": [
    "# Your code here..."
   ]
  },
  {
   "cell_type": "markdown",
   "id": "08edebf2",
   "metadata": {},
   "source": [
    "## Challenge 2:  Finding Vulnerable Domains\n",
    "In this challenge, we will look for domains in the Alexa 1M that do not have SPF/DKIM or DMARC enabled.\n",
    "\n",
    "What you'll need to do in this exercise is:\n",
    "\n",
    "1.  Execute a DNS query to retrieve the `TXT` records for each domain. \n",
    "2.  For each domain, examine each `TXT` record to see whether it is a valid SPF, DKIM or DMARC.  \n",
    "3.  If the domain has all three enabled, print that the domain is secure.  If not, print which one is missing.\n",
    "\n",
    "\n",
    "**HINT:  Not all domains in the data are valid or will have TXT records. Be sure to enclose them in a try/catch block.**\n"
   ]
  },
  {
   "cell_type": "code",
   "execution_count": null,
   "id": "50a727f2",
   "metadata": {},
   "outputs": [],
   "source": [
    "# Get the domains from the CSV into a list\n",
    "domains = []\n",
    "with open('../data/bottom100.csv', newline='') as csvfile:\n",
    "    spamreader = csv.reader(csvfile)\n",
    "    for row in spamreader:\n",
    "        domains.append(row[1])"
   ]
  },
  {
   "cell_type": "code",
   "execution_count": null,
   "id": "229ef323",
   "metadata": {},
   "outputs": [],
   "source": [
    "# Your code here ..."
   ]
  },
  {
   "cell_type": "markdown",
   "id": "b3f96fa9",
   "metadata": {},
   "source": [
    "## Challenge 3: Verifying an SPF Record and Reconnaissance\n",
    "\n",
    "For this challenge, we will be doing some network reconnaissance and verifying an SPF record. First, execute a DNS query for all `TXT` records for the domain `foxnews.com`. \n",
    "\n",
    "What services and verifications do you see?"
   ]
  },
  {
   "cell_type": "code",
   "execution_count": null,
   "id": "fd3f5170",
   "metadata": {},
   "outputs": [],
   "source": [
    "# Your code here..."
   ]
  },
  {
   "cell_type": "markdown",
   "id": "adf641ea",
   "metadata": {},
   "source": [
    "In the SPF record, you should see a few IP addresses.  Pick one that starts with `208`.  We're going to do a reverse DNS lookup on this IP address.  A reverse DNS lookup is exactly what it sounds like.  You start with an IP address and the DNS server will return entries that have an `A` record which includes that IP address. \n",
    "\n",
    "To execute the reverse DNS lookup, use the following command:\n",
    "\n",
    "```python\n",
    "dns.reversename.from_address(ip)\n",
    "```"
   ]
  },
  {
   "cell_type": "code",
   "execution_count": null,
   "id": "c50d4e06",
   "metadata": {},
   "outputs": [],
   "source": [
    "# Your code here...\n",
    "\n",
    "# Increase the timeout\n",
    "my_resolver = dns.resolver.Resolver()\n",
    "\n",
    "# 8.8.8.8 is Google's public DNS server and 1.1.1.1 is Cloudflare\n",
    "my_resolver.nameservers = ['1.1.1.1', '8.8.8.8', '8.8.4.4']\n",
    "\n",
    "\n",
    "# Your code here..."
   ]
  },
  {
   "cell_type": "markdown",
   "id": "d43f2a99",
   "metadata": {},
   "source": [
    "When you print out the results of this call, you should get a hostname.  Compare that with the original query and execute a DNS query of MX records for this domain.  Is there a DNS MX entry for that server?"
   ]
  },
  {
   "cell_type": "code",
   "execution_count": null,
   "id": "c7f45279",
   "metadata": {},
   "outputs": [],
   "source": [
    "# Your code here..."
   ]
  }
 ],
 "metadata": {
  "kernelspec": {
   "display_name": "Python 3 (ipykernel)",
   "language": "python",
   "name": "python3"
  },
  "language_info": {
   "codemirror_mode": {
    "name": "ipython",
    "version": 3
   },
   "file_extension": ".py",
   "mimetype": "text/x-python",
   "name": "python",
   "nbconvert_exporter": "python",
   "pygments_lexer": "ipython3",
   "version": "3.8.13"
  },
  "varInspector": {
   "cols": {
    "lenName": 16,
    "lenType": 16,
    "lenVar": 40
   },
   "kernels_config": {
    "python": {
     "delete_cmd_postfix": "",
     "delete_cmd_prefix": "del ",
     "library": "var_list.py",
     "varRefreshCmd": "print(var_dic_list())"
    },
    "r": {
     "delete_cmd_postfix": ") ",
     "delete_cmd_prefix": "rm(",
     "library": "var_list.r",
     "varRefreshCmd": "cat(var_dic_list()) "
    }
   },
   "types_to_exclude": [
    "module",
    "function",
    "builtin_function_or_method",
    "instance",
    "_Feature"
   ],
   "window_display": false
  }
 },
 "nbformat": 4,
 "nbformat_minor": 5
}
