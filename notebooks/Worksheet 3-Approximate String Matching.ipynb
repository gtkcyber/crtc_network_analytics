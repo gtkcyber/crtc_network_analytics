{
 "cells": [
  {
   "cell_type": "markdown",
   "id": "89eb61a6",
   "metadata": {},
   "source": [
    "<img src=\"../img/GTK_Logo_Social Icon.jpg\" width=175 align=\"right\" />\n",
    "\n",
    "\n",
    "# Worksheet 3: Approximate String Matching - Answers\n",
    "\n",
    "This worksheet covers concepts relating to approximate string matching.  It should take no more than 20-30 minutes to complete.  Please raise your hand if you get stuck.  \n",
    "\n",
    "There are many ways to accomplish the tasks that you are presented with, however you will find that by using the techniques covered in class, the exercises should be relatively simple. \n",
    "\n",
    "## Import the Libraries\n",
    "For this exercise, we will be using:\n",
    "* Pandas (http://pandas.pydata.org/pandas-docs/stable/)\n",
    "* FuzzyWuzzy (https://pypi.org/project/fuzzywuzzy/)\n",
    "* TLDExtract (https://pypi.org/project/tldextract/)"
   ]
  },
  {
   "cell_type": "code",
   "execution_count": null,
   "id": "e452b28d",
   "metadata": {},
   "outputs": [],
   "source": [
    "# Run this cell first\n",
    "import tldextract\n",
    "import pandas as pd\n",
    "from fuzzywuzzy import fuzz"
   ]
  },
  {
   "cell_type": "code",
   "execution_count": null,
   "id": "cc85fce2",
   "metadata": {},
   "outputs": [],
   "source": [
    "# Read in the data\n",
    "df = pd.read_csv('../data/url_log.csv')"
   ]
  },
  {
   "cell_type": "markdown",
   "id": "07b19bd1",
   "metadata": {},
   "source": [
    "## Exercise 1:  Find Spoofed Domains\n",
    "For this exercise, we gave you some notional log data.  The scenario is that you work for Microsoft and have reports of people getting hacked by malicious false Microsoft sites.\n",
    "\n",
    "Your challenge: Find these Spoofers.\n",
    "First, explore the data a bit:"
   ]
  },
  {
   "cell_type": "code",
   "execution_count": null,
   "id": "c9249737",
   "metadata": {},
   "outputs": [],
   "source": [
    "# First explore the data a bit\n"
   ]
  },
  {
   "cell_type": "markdown",
   "id": "b7416083",
   "metadata": {},
   "source": [
    "### Step Two:  Extract Artifacts\n",
    "In order to find the spoofed domains, we will be using an approximate string distance function to find the spoofed domains.  We'll be using the Levenshtein Distance to find domains that are similar to the legitimate domain.  For instance, micr0soft.com.  You can read more about the Levenshtein Distance here: https://en.wikipedia.org/wiki/Levenshtein_distance.  A score of 100 is a perfect match, and 0 is not a match at all. \n",
    "\n",
    "We will use FuzzyWuzzy to calculate the distance. There is a link above to the documentation for FuzzyWuzzy. \n",
    "\n",
    "What we're going to do first is write two functions:\n",
    "\n",
    "* `get_domain(url)`:  This function will take a complete URL and extract the domain portion of the URL.\n",
    "* `similiarity_score(x,y)`:  This function will accept two strings and return the levenshtein distance between the two strings.\n"
   ]
  },
  {
   "cell_type": "code",
   "execution_count": null,
   "id": "b6ffe566",
   "metadata": {},
   "outputs": [],
   "source": [
    "def get_domain(url: str) -> str:\n",
    "    # Your code here...\n",
    "    pass\n",
    "\n",
    "def similarity_score(x:str,y:str) -> str:\n",
    "    # Your code here...\n",
    "    pass"
   ]
  },
  {
   "cell_type": "markdown",
   "id": "4dd93aed",
   "metadata": {},
   "source": [
    "Now that you have the functions written, let's add two columns to the data frame:\n",
    "1. `domain`:  This should only contain the domain portion of the URL\n",
    "2. `score`:  The Levenshtein distance between the domain and microsoft.com"
   ]
  },
  {
   "cell_type": "code",
   "execution_count": null,
   "id": "925074f0",
   "metadata": {},
   "outputs": [],
   "source": [
    "df['domain'] = # Your code here..."
   ]
  },
  {
   "cell_type": "code",
   "execution_count": null,
   "id": "f70c9b8c",
   "metadata": {},
   "outputs": [],
   "source": [
    "df['score'] = # Your code here..."
   ]
  },
  {
   "cell_type": "markdown",
   "id": "b3e7f346",
   "metadata": {},
   "source": [
    "## Step Three:  Find the Bad Guys!\n",
    "Now that you have the data in the dataframe, see if you can find interesting permutations of the microsoft domain, by looking for different score thresholds.  What did you find?"
   ]
  },
  {
   "cell_type": "code",
   "execution_count": null,
   "id": "2bac170a",
   "metadata": {},
   "outputs": [],
   "source": [
    "# Your code here..."
   ]
  }
 ],
 "metadata": {
  "kernelspec": {
   "display_name": "Python 3 (ipykernel)",
   "language": "python",
   "name": "python3"
  },
  "language_info": {
   "codemirror_mode": {
    "name": "ipython",
    "version": 3
   },
   "file_extension": ".py",
   "mimetype": "text/x-python",
   "name": "python",
   "nbconvert_exporter": "python",
   "pygments_lexer": "ipython3",
   "version": "3.8.13"
  }
 },
 "nbformat": 4,
 "nbformat_minor": 5
}
