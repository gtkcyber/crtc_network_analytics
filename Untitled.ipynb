{
 "cells": [
  {
   "cell_type": "code",
   "execution_count": 26,
   "id": "735f4288",
   "metadata": {
    "ExecuteTime": {
     "end_time": "2023-03-24T22:09:35.114543Z",
     "start_time": "2023-03-24T22:09:35.111521Z"
    }
   },
   "outputs": [],
   "source": [
    "import whois21\n",
    "import csv\n",
    "import dns.resolver\n",
    "import dns.query\n",
    "import dns.zone"
   ]
  },
  {
   "cell_type": "code",
   "execution_count": 7,
   "id": "396ccccb",
   "metadata": {
    "ExecuteTime": {
     "end_time": "2023-03-24T21:51:36.939022Z",
     "start_time": "2023-03-24T21:51:36.779460Z"
    }
   },
   "outputs": [],
   "source": [
    "whois = whois21.WHOIS('datadistillr.com')"
   ]
  },
  {
   "cell_type": "code",
   "execution_count": 8,
   "id": "7c78dcb7",
   "metadata": {
    "ExecuteTime": {
     "end_time": "2023-03-24T21:51:37.355416Z",
     "start_time": "2023-03-24T21:51:37.350525Z"
    }
   },
   "outputs": [
    {
     "data": {
      "text/plain": [
       "{'DOMAIN NAME': 'DATADISTILLR.COM',\n",
       " 'REGISTRY DOMAIN ID': '2518528688_DOMAIN_COM-VRSN',\n",
       " 'REGISTRAR WHOIS SERVER': 'whois.google.com',\n",
       " 'REGISTRAR URL': 'http://domains.google.com',\n",
       " 'UPDATED DATE': '2021-04-20T13:48:29Z',\n",
       " 'CREATION DATE': '2020-04-24T19:55:18Z',\n",
       " 'REGISTRY EXPIRY DATE': '2026-04-24T19:55:18Z',\n",
       " 'REGISTRAR': 'Google LLC',\n",
       " 'REGISTRAR IANA ID': '895',\n",
       " 'REGISTRAR ABUSE CONTACT EMAIL': 'registrar-abuse@google.com',\n",
       " 'REGISTRAR ABUSE CONTACT PHONE': '+1.8772376466',\n",
       " 'DOMAIN STATUS': 'clientTransferProhibited https://icann.org/epp#clientTransferProhibited',\n",
       " 'NAME SERVER': ['NS-CLOUD-C1.GOOGLEDOMAINS.COM',\n",
       "  'NS-CLOUD-C2.GOOGLEDOMAINS.COM',\n",
       "  'NS-CLOUD-C3.GOOGLEDOMAINS.COM',\n",
       "  'NS-CLOUD-C4.GOOGLEDOMAINS.COM'],\n",
       " 'DNSSEC': 'signedDelegation',\n",
       " 'DNSSEC DS DATA': '9464 8 2 644F307687A3871DFD20E292F90D9AAA77D0193B0FC8F39277839D75E2ACB506',\n",
       " 'URL OF THE ICANN WHOIS INACCURACY COMPLAINT FORM': 'https://www.icann.org/wicf/',\n",
       " '>>> LAST UPDATE OF WHOIS DATABASE': '2023-03-24T21:51:28Z <<<',\n",
       " 'FOR MORE INFORMATION ON WHOIS STATUS CODES, PLEASE VISIT HTTPS': '//icann.org/epp',\n",
       " 'NOTICE': 'The expiration date displayed in this record is the date the',\n",
       " 'TERMS OF USE': 'You are not authorized to access or query our Whois',\n",
       " 'BY THE FOLLOWING TERMS OF USE': 'You agree that you may use this Data only',\n",
       " 'TO': '(1) allow, enable, or otherwise support the transmission of mass'}"
      ]
     },
     "execution_count": 8,
     "metadata": {},
     "output_type": "execute_result"
    }
   ],
   "source": [
    "whois.whois_data"
   ]
  },
  {
   "cell_type": "code",
   "execution_count": 12,
   "id": "f3e354f6",
   "metadata": {
    "ExecuteTime": {
     "end_time": "2023-03-24T21:55:46.393556Z",
     "start_time": "2023-03-24T21:55:46.353760Z"
    }
   },
   "outputs": [
    {
     "name": "stdout",
     "output_type": "stream",
     "text": [
      "Host alt1.aspmx.l.google.com. has preference 5\n",
      "Host alt4.aspmx.l.google.com. has preference 10\n",
      "Host alt3.aspmx.l.google.com. has preference 10\n",
      "Host aspmx.l.google.com. has preference 1\n",
      "Host alt2.aspmx.l.google.com. has preference 5\n"
     ]
    }
   ],
   "source": [
    "import dns.resolver\n",
    "import dns.e164\n",
    "\n",
    "answers = dns.resolver.resolve('gtkcyber.com', 'MX')\n",
    "for rdata in answers:\n",
    "    print('Host', rdata.exchange, 'has preference', rdata.preference)"
   ]
  },
  {
   "cell_type": "code",
   "execution_count": 14,
   "id": "1b9a9c46",
   "metadata": {
    "ExecuteTime": {
     "end_time": "2023-03-24T21:56:06.125580Z",
     "start_time": "2023-03-24T21:56:06.121566Z"
    }
   },
   "outputs": [
    {
     "name": "stdout",
     "output_type": "stream",
     "text": [
      "6.8.2.3.2.6.7.3.4.4.1.e164.arpa.\n",
      "+14437623286\n"
     ]
    }
   ],
   "source": [
    "n = dns.e164.from_e164(\"+1 443 762 3286\")\n",
    "print(n)\n",
    "print(dns.e164.to_e164(n))"
   ]
  },
  {
   "cell_type": "code",
   "execution_count": 29,
   "id": "cc8dbcde",
   "metadata": {
    "ExecuteTime": {
     "end_time": "2023-03-24T22:11:44.008484Z",
     "start_time": "2023-03-24T22:11:44.004539Z"
    }
   },
   "outputs": [],
   "source": [
    "domains = []\n",
    "with open('top10.csv', newline='') as csvfile:\n",
    "    spamreader = csv.reader(csvfile)\n",
    "    for row in spamreader:\n",
    "        domains.append(row[1])"
   ]
  },
  {
   "cell_type": "code",
   "execution_count": 30,
   "id": "a1f69101",
   "metadata": {
    "ExecuteTime": {
     "end_time": "2023-03-24T22:11:58.529963Z",
     "start_time": "2023-03-24T22:11:57.891133Z"
    }
   },
   "outputs": [
    {
     "name": "stderr",
     "output_type": "stream",
     "text": [
      "/var/folders/zk/d1r5pk1n5rq5cgjj_l48mbsh0000gn/T/ipykernel_29049/828801219.py:2: DeprecationWarning: please use dns.resolver.resolve() instead\n",
      "  ns_query = dns.resolver.query(domain,'NS')\n"
     ]
    },
    {
     "name": "stdout",
     "output_type": "stream",
     "text": [
      "ns3.google.com\n",
      "ns2.google.com\n",
      "ns1.google.com\n",
      "ns4.google.com\n",
      "ns4.google.com\n",
      "ns3.google.com\n",
      "ns2.google.com\n",
      "ns1.google.com\n",
      "a.ns.facebook.com\n",
      "b.ns.facebook.com\n",
      "c.ns.facebook.com\n",
      "d.ns.facebook.com\n",
      "ns4.baidu.com\n",
      "ns7.baidu.com\n",
      "ns2.baidu.com\n",
      "dns.baidu.com\n",
      "ns3.baidu.com\n",
      "ns2.wikimedia.org\n",
      "ns0.wikimedia.org\n",
      "ns1.wikimedia.org\n",
      "ns1.yahoo.com\n",
      "ns3.yahoo.com\n",
      "ns2.yahoo.com\n",
      "ns4.yahoo.com\n",
      "ns5.yahoo.com\n",
      "ns2.google.com\n",
      "ns3.google.com\n",
      "ns1.google.com\n",
      "ns4.google.com\n",
      "ns-378.awsdns-47.com\n",
      "ns-557.awsdns-05.net\n",
      "ns-1029.awsdns-00.org\n",
      "ns-1887.awsdns-43.co.uk\n",
      "ns2.qq.com\n",
      "ns3.qq.com\n",
      "ns4.qq.com\n",
      "ns1.qq.com\n",
      "ns2.p31.dynect.net\n",
      "ns3.p31.dynect.net\n",
      "ns4.p31.dynect.net\n",
      "pdns1.ultradns.net\n",
      "pdns6.ultradns.co.uk\n",
      "ns1.p31.dynect.net\n"
     ]
    }
   ],
   "source": [
    "# Get the name servers\n",
    "for domain in domains:\n",
    "    ns_query = dns.resolver.query(domain,'NS')\n",
    "    for ns in ns_query.rrset:\n",
    "        nameserver = str(ns)[:-1]\n",
    "        if nameserver is None or nameserver == \"\":\n",
    "            continue\n",
    "        else:\n",
    "            print(nameserver)"
   ]
  }
 ],
 "metadata": {
  "kernelspec": {
   "display_name": "Python 3 (ipykernel)",
   "language": "python",
   "name": "python3"
  },
  "language_info": {
   "codemirror_mode": {
    "name": "ipython",
    "version": 3
   },
   "file_extension": ".py",
   "mimetype": "text/x-python",
   "name": "python",
   "nbconvert_exporter": "python",
   "pygments_lexer": "ipython3",
   "version": "3.9.15"
  },
  "varInspector": {
   "cols": {
    "lenName": 16,
    "lenType": 16,
    "lenVar": 40
   },
   "kernels_config": {
    "python": {
     "delete_cmd_postfix": "",
     "delete_cmd_prefix": "del ",
     "library": "var_list.py",
     "varRefreshCmd": "print(var_dic_list())"
    },
    "r": {
     "delete_cmd_postfix": ") ",
     "delete_cmd_prefix": "rm(",
     "library": "var_list.r",
     "varRefreshCmd": "cat(var_dic_list()) "
    }
   },
   "types_to_exclude": [
    "module",
    "function",
    "builtin_function_or_method",
    "instance",
    "_Feature"
   ],
   "window_display": false
  }
 },
 "nbformat": 4,
 "nbformat_minor": 5
}
