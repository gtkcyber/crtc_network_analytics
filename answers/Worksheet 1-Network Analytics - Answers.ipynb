{
 "cells": [
  {
   "cell_type": "markdown",
   "id": "677cf753",
   "metadata": {},
   "source": [
    "<img src=\"../img/GTK_Logo_Social Icon.jpg\" width=175 align=\"right\" />\n",
    "\n",
    "# Worksheet 1: Network Analytics - Answers\n",
    "\n",
    "In this worksheet, you will try out some of the techniques used for network analysis using Python.  It should take approximate 20-30 minutes to complete. \n",
    "\n",
    "## Import the Libraries\n",
    "\n",
    "This worksheet will use the following modules:\n",
    "* `dnsparse`: https://dnspython.readthedocs.io/en/latest/\n",
    "* `python-whois`: https://pypi.org/project/python-whois/\n",
    "* `ip2geotools`: https://github.com/tomas-net/ip2geotools\n"
   ]
  },
  {
   "cell_type": "code",
   "execution_count": 20,
   "id": "735f4288",
   "metadata": {
    "ExecuteTime": {
     "end_time": "2023-03-24T22:09:35.114543Z",
     "start_time": "2023-03-24T22:09:35.111521Z"
    }
   },
   "outputs": [],
   "source": [
    "# Run me first\n",
    "import whois\n",
    "import csv\n",
    "import dns.resolver, dns.reversename, dns.query, dns.zone\n",
    "from ip2geotools.databases.noncommercial import DbIpCity"
   ]
  },
  {
   "cell_type": "markdown",
   "id": "274caea5",
   "metadata": {},
   "source": [
    "## Challege 1: Geolocating an Email Server\n",
    "In this challenge, you have a domain and you will use network analytic tools to geolocate the mail server.  Let's use cnn.com as a target.  Feel free to pick another target.\n",
    "\n",
    "### Step 1:  Get the MX records\n",
    "For the first step, execute a DNS query to retrieve the MX records for your domain.  To do this, use `dns.resolver.resolve` from `dnsparse` and get the MX records for that domain. Print out the MX records.  Remember there may be more than one."
   ]
  },
  {
   "cell_type": "code",
   "execution_count": 8,
   "id": "e7b9294b",
   "metadata": {},
   "outputs": [
    {
     "name": "stdout",
     "output_type": "stream",
     "text": [
      "MX Record:  10 crtc-gc-ca.mail.protection.outlook.com.\n"
     ]
    }
   ],
   "source": [
    "mxrecords = dns.resolver.resolve('crtc.gc.ca', 'MX')\n",
    "\n",
    "for mxrecord in mxrecords:\n",
    "    print('MX Record: ',mxrecord)"
   ]
  },
  {
   "cell_type": "markdown",
   "id": "7f225cfc",
   "metadata": {},
   "source": [
    "### Step 2:  Get the MX Servers' A Records\n",
    "\n",
    "If this worked, you should now have the mail server(s) for your domain.  Next, let's attempt to find the IP addresses associated with these servers.  We will accomplish that by executing another DNS query, but this time, we'll look for the `A` record.  Remember, we want the `A` record for the MX server, not the domain."
   ]
  },
  {
   "cell_type": "code",
   "execution_count": 9,
   "id": "1119184e",
   "metadata": {},
   "outputs": [
    {
     "name": "stdout",
     "output_type": "stream",
     "text": [
      "104.47.75.228: City: Quebec City, Country: CA, Region: Quebec\n",
      "104.47.75.164: City: Toronto, Country: CA, Region: Ontario\n"
     ]
    }
   ],
   "source": [
    "arecords = dns.resolver.resolve('crtc-gc-ca.mail.protection.outlook.com', 'A')\n",
    "for arecord in arecords:\n",
    "    response = DbIpCity.get(str(arecord), api_key='free')\n",
    "    print(f\"{arecord}: City: {response.city}, Country: {response.country}, Region: {response.region}\")"
   ]
  },
  {
   "cell_type": "markdown",
   "id": "cefb6395",
   "metadata": {},
   "source": [
    "### Step 3:  Geolocate the MX Servers\n",
    "Using the module `ip2geotools`, let's attempt to geolocate these IP addresses. The snippet below will geolocate an IP address:\n",
    "\n",
    "```python\n",
    "response = DbIpCity.get(str(<ip address>), api_key='free')\n",
    "```\n",
    "\n",
    "Once you have the `response` you can extract the various components of that response."
   ]
  },
  {
   "cell_type": "code",
   "execution_count": null,
   "id": "6995d41e",
   "metadata": {},
   "outputs": [],
   "source": [
    "# Your code here..."
   ]
  },
  {
   "cell_type": "markdown",
   "id": "5ad7f00f",
   "metadata": {},
   "source": [
    "## Challenge 2:  Finding Vulnerable Domains\n",
    "In this challenge, we will look for domains in the Alexa 1M that do not have SPF/DKIM or DMARC enabled.\n",
    "\n",
    "What you'll need to do in this exercise is:\n",
    "\n",
    "1.  Execute a DNS query to retrieve the `TXT` records for each domain. \n",
    "2.  For each domain, examine each `TXT` record to see whether it is a valid SPF, DKIM or DMARC.  \n",
    "3.  If the domain has all three enabled, print that the domain is secure.  If not, print which one is missing.\n",
    "\n",
    "\n",
    "**HINT:  Not all domains in the data are valid or will have TXT records. Be sure to enclose them in a try/catch block.**\n"
   ]
  },
  {
   "cell_type": "code",
   "execution_count": 10,
   "id": "c1578975",
   "metadata": {},
   "outputs": [],
   "source": [
    "# Get the domains from the CSV into a list\n",
    "domains = []\n",
    "with open('../data/bottom100.csv', newline='') as csvfile:\n",
    "    spamreader = csv.reader(csvfile)\n",
    "    for row in spamreader:\n",
    "        domains.append(row[1])"
   ]
  },
  {
   "cell_type": "code",
   "execution_count": 11,
   "id": "6267c309",
   "metadata": {},
   "outputs": [
    {
     "name": "stdout",
     "output_type": "stream",
     "text": [
      "zurf.nl is missing: DKIM \n",
      "totalhealth.co.uk is missing: DKIM \n",
      "iporno.com.br is missing: DKIM \n",
      "erodojinhustle.com not found.\n",
      "kagi1109948.com not found.\n",
      "desafiobtc.com is missing: DKIM \n",
      "xdownloadfilmgratis.id not found.\n",
      "surecall.com is missing: DKIM \n",
      "findnew2upgrades.download not found.\n",
      "hanaif.re.kr not found.\n",
      "realestatesales.gov is missing: DKIM \n",
      "karakuriya.com is missing: DKIM \n",
      "lenovo-service.ir not found.\n",
      "xiaoyangren.net not found.\n",
      "zlatibor.rs is missing: DKIM \n",
      "agronet.gov.co is missing: SPF \n",
      "agrodataperu.com is missing: DKIM \n",
      "energyfromthevacuum.com is missing: SPF \n",
      "riverrides.com is missing: DKIM \n",
      "veganfitness.net not found.\n",
      "rre6oei2g00781t8.cf not found.\n",
      "enseignementeducation.fr is missing: SPF \n",
      "gimje.go.kr is missing: DKIM \n",
      "japan-fans.com is missing: SPF \n",
      "potomaccrossfit.com is missing: DKIM \n",
      "cricketmatchbettingtips.com not found.\n",
      "holdingtotruth.com is missing: DKIM \n",
      "essie.de is missing: DKIM \n",
      "ldcvip.com not found.\n",
      "nokiarevolution.com is missing: DKIM \n",
      "mkkssmkjabar.or.id not found.\n",
      "captureone.cn not found.\n",
      "festivalando.com.br is missing: DKIM \n",
      "rumaheditor.com is missing: DKIM \n",
      "pop-informatique.com is missing: DKIM \n",
      "jayfeng.com not found.\n",
      "dabirinc.com is missing: DKIM \n",
      "e-rakunet.com not found.\n",
      "soken.ac.jp is missing: DKIM \n",
      "firstcall-backoffice-staging.azurewebsites.net not found.\n",
      "amuland.pl not found.\n",
      "polku.co.jp is missing: DKIM \n",
      "dastberang.ir is missing: DKIM \n",
      "canaldeentretenimiento.com is missing: DKIM \n",
      "accidentalcreative.com is missing: DKIM \n",
      "ibms.org is missing: DKIM \n",
      "omniparityrzsbuc.website not found.\n",
      "charatsoft.com not found.\n",
      "esball.in not found.\n",
      "20009.net not found.\n",
      "royceconfectusa.com is missing: DKIM \n",
      "56jita.com not found.\n",
      "isyoursiteranked.com not found.\n",
      "camerastore.com.au is missing: DKIM \n",
      "whittleburyhall.co.uk is missing: DKIM \n",
      "customsoundsreports.com is missing: DKIM \n",
      "goforworld.shop is missing: DKIM \n",
      "duitkertas.com is missing: SPF \n",
      "marker.hr is missing: DKIM \n",
      "wwlr.com is missing: DKIM \n",
      "toynbeehall.org.uk is missing: DKIM \n",
      "hotbbwmom.com not found.\n",
      "pompadour.es is missing: DKIM \n",
      "bikitravelaroundtheworld.blogspot.gr not found.\n",
      "thedenofravenpuff.tumblr.com is missing: DKIM \n",
      "osmartphones.ru not found.\n",
      "jerswoodshop.com is missing: DKIM \n",
      "mavic.ne.jp is missing: DKIM \n",
      "petanque-en-comminges.com is missing: DKIM \n",
      "ecdl.gr is missing: DKIM \n",
      "kickas.org not found.\n",
      "sfs.fi is missing: DKIM \n",
      "britishmotormuseum.co.uk is missing: DKIM \n",
      "tufisio.net is missing: DKIM \n",
      "ax-dynamics.com is missing: DKIM \n",
      "mrporn.ru is missing: SPF \n",
      "1s2u.net is missing: DKIM \n",
      "kafablog.com is missing: DKIM \n",
      "blueberry.gg is missing: DKIM \n",
      "portalcostanorte.com not found.\n",
      "hotmat.se is missing: SPF \n",
      "aizu-concierge.com is missing: DKIM \n",
      "wufafuwu.com not found.\n",
      "tucsonstorefixtures.com not found.\n",
      "raggedjackscarlet.tumblr.com is missing: DKIM \n",
      "solent.co is missing: DKIM \n",
      "authentica.ru is missing: DKIM \n",
      "sunpan.com is missing: DKIM \n",
      "wyandottesxyyss.website not found.\n",
      "reuber-norwegen.de not found.\n",
      "divulga247.com.br not found.\n",
      "doctordirectory.com is missing: DKIM \n",
      "azeletron.com not found.\n",
      "ttnnews.com is missing: DKIM \n",
      "cleanpornvideos.net not found.\n",
      "sibf.org is missing: DKIM \n",
      "bukapintu.co not found.\n",
      "klatovynet.cz not found.\n",
      "elconquistadorfm.cl is missing: DKIM \n",
      "laputertienda.com is missing: DKIM \n"
     ]
    }
   ],
   "source": [
    "# Your code here ...\n",
    "for domain in domains:\n",
    "    try:\n",
    "        txt_records = dns.resolver.resolve(domain, 'TXT')\n",
    "        found_spf = False\n",
    "        found_dkim = False\n",
    "        found_dmarc = False\n",
    "        \n",
    "        # Iterate over the text records to find the relevant ones\n",
    "        for txt in txt_records:\n",
    "            txt_record = txt.to_text()\n",
    "            \n",
    "            if \"v=spf1\" in txt_record:\n",
    "                found_spf = True\n",
    "            elif \"v=DKIM\" in txt_record:\n",
    "                found_dkim = True\n",
    "            elif \"v=DMARC\" in txt_record:\n",
    "                found_dmarc = True\n",
    "            \n",
    "        if found_spf and found_dkim and found_dkim:\n",
    "            print(f\"{domain} is secure.\")\n",
    "        else:\n",
    "            warning_string = f\"{domain} is missing: \"\n",
    "            if not found_spf:\n",
    "                warning_string += \"SPF \"\n",
    "            elif not found_dkim:\n",
    "                warning_string += \"DKIM \"\n",
    "            elif not found_dmarc:\n",
    "                warning_string += \"DMARC.\"\n",
    "            \n",
    "            print(warning_string)\n",
    "        \n",
    "    except:\n",
    "        print(f\"{domain} not found.\")\n",
    "        continue"
   ]
  },
  {
   "cell_type": "markdown",
   "id": "c0727d25",
   "metadata": {},
   "source": [
    "## Challenge 3: Verifying an SPF Record and Reconnaissance\n",
    "\n",
    "For this challenge, we will be doing some network reconnaissance and verifying an SPF record. First, execute a DNS query for all `TXT` records for the domain `foxnews.com`. \n",
    "\n",
    "What services and verifications do you see?"
   ]
  },
  {
   "cell_type": "code",
   "execution_count": 51,
   "id": "d4fa76ba",
   "metadata": {},
   "outputs": [
    {
     "name": "stdout",
     "output_type": "stream",
     "text": [
      "\"v=spf1 ip4:66.230.193.40 ip4:66.230.193.2 ip4:208.84.65.98 ip4:208.86.201.96 include:spf-00195501.pphosted.com include:spf.protection.outlook.com include:amazonses.com include:mail.zendesk.com include:_spf.google.com -all\"\n",
      "\"MS=ms40284671\"\n",
      "\"265947818-2009536\"\n",
      "\"qRWnq9UOByGW6DnvW8qZ4scp8GbkRYG4bsmSOyP+dzlIB+XXQtkNbpBK3qVrJ8E7YT83Bk33z5CPO1L2KlH/mA==\"\n",
      "\"adobe-idp-site-verification=10f6011913207e944a026129f59881b0cb1078801a8c11229c6e95615eb28070\"\n",
      "\"_globalsign-domain-verification=BahbT-Pu-HaLP9bBimZ0MGe-4CPc4Z_MXqKNUajBmF\"\n",
      "\"google-site-verification=3LvSKyvB7eXlZQtS_7fwgd0cMKh6zBBzo-g9hhEVu7k\"\n",
      "\"MS=ms71309079\"\n",
      "\"bppko2051pbcn9bvdualgach7h\"\n"
     ]
    }
   ],
   "source": [
    "txt_records = dns.resolver.resolve(\"foxnews.com\", 'TXT')\n",
    "for r in txt_records:\n",
    "    print(r)"
   ]
  },
  {
   "cell_type": "markdown",
   "id": "aff3887f",
   "metadata": {},
   "source": [
    "In the SPF record, you should see a few IP addresses.  Pick one that starts with `208`.  We're going to do a reverse DNS lookup on this IP address.  A reverse DNS lookup is exactly what it sounds like.  You start with an IP address and the DNS server will return entries that have an `A` record which includes that IP address. \n",
    "\n",
    "To execute the reverse DNS lookup, use the following command:\n",
    "\n",
    "```python\n",
    "dns.reversename.from_address(ip)\n",
    "```"
   ]
  },
  {
   "cell_type": "code",
   "execution_count": 60,
   "id": "7de91c63",
   "metadata": {},
   "outputs": [],
   "source": [
    "addrs = dns.reversename.from_address(\"208.84.65.98\")\n",
    "\n",
    "# Increase the timeout\n",
    "my_resolver = dns.resolver.Resolver()\n",
    "\n",
    "# 8.8.8.8 is Google's public DNS server and 1.1.1.1 is Cloudflare\n",
    "my_resolver.nameservers = ['1.1.1.1', '8.8.8.8', '8.8.4.4']\n",
    "\n",
    "\n",
    "for ip in my_resolver.resolve(addrs,\"PTR\"):\n",
    "    print(str(ip))"
   ]
  },
  {
   "cell_type": "markdown",
   "id": "7ccf15ca",
   "metadata": {},
   "source": [
    "When you print out the results of this call, you should get a hostname.  Compare that with the original query and execute a DNS query of MX records for this domain.  Is there a DNS MX entry for that server?"
   ]
  },
  {
   "cell_type": "code",
   "execution_count": 61,
   "id": "515bd5df",
   "metadata": {},
   "outputs": [
    {
     "name": "stdout",
     "output_type": "stream",
     "text": [
      "10 mxa-00195501.gslb.pphosted.com.\n",
      "10 mxb-00195501.gslb.pphosted.com.\n"
     ]
    }
   ],
   "source": [
    "txt_records = my_resolver.resolve(\"foxnews.com\", \"MX\")\n",
    "for r in txt_records:\n",
    "    print(r)"
   ]
  }
 ],
 "metadata": {
  "kernelspec": {
   "display_name": "Python 3 (ipykernel)",
   "language": "python",
   "name": "python3"
  },
  "language_info": {
   "codemirror_mode": {
    "name": "ipython",
    "version": 3
   },
   "file_extension": ".py",
   "mimetype": "text/x-python",
   "name": "python",
   "nbconvert_exporter": "python",
   "pygments_lexer": "ipython3",
   "version": "3.8.13"
  },
  "varInspector": {
   "cols": {
    "lenName": 16,
    "lenType": 16,
    "lenVar": 40
   },
   "kernels_config": {
    "python": {
     "delete_cmd_postfix": "",
     "delete_cmd_prefix": "del ",
     "library": "var_list.py",
     "varRefreshCmd": "print(var_dic_list())"
    },
    "r": {
     "delete_cmd_postfix": ") ",
     "delete_cmd_prefix": "rm(",
     "library": "var_list.r",
     "varRefreshCmd": "cat(var_dic_list()) "
    }
   },
   "types_to_exclude": [
    "module",
    "function",
    "builtin_function_or_method",
    "instance",
    "_Feature"
   ],
   "window_display": false
  }
 },
 "nbformat": 4,
 "nbformat_minor": 5
}
