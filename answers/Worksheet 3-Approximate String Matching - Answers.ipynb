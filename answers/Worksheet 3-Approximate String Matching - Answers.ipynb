{
 "cells": [
  {
   "cell_type": "markdown",
   "id": "89eb61a6",
   "metadata": {},
   "source": [
    "<img src=\"../img/GTK_Logo_Social Icon.jpg\" width=175 align=\"right\" />\n",
    "\n",
    "\n",
    "# Worksheet 3: Approximate String Matching - Answers\n",
    "\n",
    "This worksheet covers concepts relating to approximate string matching.  It should take no more than 20-30 minutes to complete.  Please raise your hand if you get stuck.  \n",
    "\n",
    "There are many ways to accomplish the tasks that you are presented with, however you will find that by using the techniques covered in class, the exercises should be relatively simple. \n",
    "\n",
    "## Import the Libraries\n",
    "For this exercise, we will be using:\n",
    "* Pandas (http://pandas.pydata.org/pandas-docs/stable/)\n",
    "* FuzzyWuzzy (https://pypi.org/project/fuzzywuzzy/)\n",
    "* TLDExtract (https://pypi.org/project/tldextract/)"
   ]
  },
  {
   "cell_type": "code",
   "execution_count": 4,
   "id": "e452b28d",
   "metadata": {},
   "outputs": [],
   "source": [
    "# Run this cell first\n",
    "import tldextract\n",
    "import pandas as pd\n",
    "from fuzzywuzzy import fuzz"
   ]
  },
  {
   "cell_type": "code",
   "execution_count": 5,
   "id": "cc85fce2",
   "metadata": {},
   "outputs": [],
   "source": [
    "# Read in the data\n",
    "df = pd.read_csv('../data/url_log.csv')"
   ]
  },
  {
   "cell_type": "markdown",
   "id": "07b19bd1",
   "metadata": {},
   "source": [
    "## Exercise 1:  Find Spoofed Domains\n",
    "For this exercise, we gave you some notional log data.  The scenario is that you work for Microsoft and have reports of people getting hacked by malicious false Microsoft sites.\n",
    "\n",
    "Your challenge: Find these Spoofers.\n",
    "First, explore the data a bit:"
   ]
  },
  {
   "cell_type": "code",
   "execution_count": 6,
   "id": "c9249737",
   "metadata": {},
   "outputs": [
    {
     "name": "stdout",
     "output_type": "stream",
     "text": [
      "<class 'pandas.core.frame.DataFrame'>\n",
      "RangeIndex: 1005 entries, 0 to 1004\n",
      "Data columns (total 4 columns):\n",
      " #   Column  Non-Null Count  Dtype \n",
      "---  ------  --------------  ----- \n",
      " 0   id      1005 non-null   int64 \n",
      " 1   src_ip  1005 non-null   object\n",
      " 2   url     1005 non-null   object\n",
      " 3   bytes   1005 non-null   int64 \n",
      "dtypes: int64(2), object(2)\n",
      "memory usage: 31.5+ KB\n"
     ]
    }
   ],
   "source": [
    "# First explore the data a bit\n",
    "df.info()"
   ]
  },
  {
   "cell_type": "code",
   "execution_count": 7,
   "id": "c22df59d",
   "metadata": {},
   "outputs": [
    {
     "data": {
      "text/html": [
       "<div>\n",
       "<style scoped>\n",
       "    .dataframe tbody tr th:only-of-type {\n",
       "        vertical-align: middle;\n",
       "    }\n",
       "\n",
       "    .dataframe tbody tr th {\n",
       "        vertical-align: top;\n",
       "    }\n",
       "\n",
       "    .dataframe thead th {\n",
       "        text-align: right;\n",
       "    }\n",
       "</style>\n",
       "<table border=\"1\" class=\"dataframe\">\n",
       "  <thead>\n",
       "    <tr style=\"text-align: right;\">\n",
       "      <th></th>\n",
       "      <th>id</th>\n",
       "      <th>src_ip</th>\n",
       "      <th>url</th>\n",
       "      <th>bytes</th>\n",
       "    </tr>\n",
       "  </thead>\n",
       "  <tbody>\n",
       "    <tr>\n",
       "      <th>841</th>\n",
       "      <td>1679429128000</td>\n",
       "      <td>228.38.78.24</td>\n",
       "      <td>https://admin.ch/risus/praesent/lectus/vestibu...</td>\n",
       "      <td>1601</td>\n",
       "    </tr>\n",
       "    <tr>\n",
       "      <th>988</th>\n",
       "      <td>1679385315000</td>\n",
       "      <td>190.133.41.12</td>\n",
       "      <td>http://sciencedaily.com/morbi/non/lectus/aliqu...</td>\n",
       "      <td>3689</td>\n",
       "    </tr>\n",
       "    <tr>\n",
       "      <th>747</th>\n",
       "      <td>1679424449000</td>\n",
       "      <td>185.40.64.135</td>\n",
       "      <td>https://quantcast.com/penatibus/et/magnis/dis/...</td>\n",
       "      <td>2462</td>\n",
       "    </tr>\n",
       "    <tr>\n",
       "      <th>230</th>\n",
       "      <td>1679435723000</td>\n",
       "      <td>102.148.207.11</td>\n",
       "      <td>http://bizjournals.com/ac/nulla/sed/vel/enim/s...</td>\n",
       "      <td>2472</td>\n",
       "    </tr>\n",
       "    <tr>\n",
       "      <th>179</th>\n",
       "      <td>1679435788000</td>\n",
       "      <td>185.54.251.114</td>\n",
       "      <td>https://europa.eu/praesent/blandit/nam.html?nu...</td>\n",
       "      <td>3291</td>\n",
       "    </tr>\n",
       "  </tbody>\n",
       "</table>\n",
       "</div>"
      ],
      "text/plain": [
       "                id          src_ip  \\\n",
       "841  1679429128000    228.38.78.24   \n",
       "988  1679385315000   190.133.41.12   \n",
       "747  1679424449000   185.40.64.135   \n",
       "230  1679435723000  102.148.207.11   \n",
       "179  1679435788000  185.54.251.114   \n",
       "\n",
       "                                                   url  bytes  \n",
       "841  https://admin.ch/risus/praesent/lectus/vestibu...   1601  \n",
       "988  http://sciencedaily.com/morbi/non/lectus/aliqu...   3689  \n",
       "747  https://quantcast.com/penatibus/et/magnis/dis/...   2462  \n",
       "230  http://bizjournals.com/ac/nulla/sed/vel/enim/s...   2472  \n",
       "179  https://europa.eu/praesent/blandit/nam.html?nu...   3291  "
      ]
     },
     "execution_count": 7,
     "metadata": {},
     "output_type": "execute_result"
    }
   ],
   "source": [
    "df.sample(5)"
   ]
  },
  {
   "cell_type": "markdown",
   "id": "b7416083",
   "metadata": {},
   "source": [
    "### Step Two:  Extract Artifacts\n",
    "In order to find the spoofed domains, we will be using an approximate string distance function to find the spoofed domains.  We'll be using the Levenshtein Distance to find domains that are similar to the legitimate domain.  For instance, micr0soft.com.  You can read more about the Levenshtein Distance here: https://en.wikipedia.org/wiki/Levenshtein_distance.  A score of 100 is a perfect match, and 0 is not a match at all. \n",
    "\n",
    "We will use FuzzyWuzzy to calculate the distance. There is a link above to the documentation for FuzzyWuzzy. \n",
    "\n",
    "What we're going to do first is write two functions:\n",
    "\n",
    "* `get_domain(url)`:  This function will take a complete URL and extract the domain portion of the URL.\n",
    "* `similiarity_score(x,y)`:  This function will accept two strings and return the levenshtein distance between the two strings.\n"
   ]
  },
  {
   "cell_type": "code",
   "execution_count": 20,
   "id": "b6ffe566",
   "metadata": {},
   "outputs": [],
   "source": [
    "def get_domain(url: str) -> str:\n",
    "    parts = tldextract.extract(url)\n",
    "    return f\"{parts.domain}.{parts.suffix}\"\n",
    "\n",
    "def similarity_score(x:str,y:str) -> str:\n",
    "    return fuzz.ratio(x, y)"
   ]
  },
  {
   "cell_type": "markdown",
   "id": "4dd93aed",
   "metadata": {},
   "source": [
    "Now that you have the functions written, let's add two columns to the data frame:\n",
    "1. `domain`:  This should only contain the domain portion of the URL\n",
    "2. `score`:  The Levenshtein distance between the domain and microsoft.com"
   ]
  },
  {
   "cell_type": "code",
   "execution_count": 21,
   "id": "925074f0",
   "metadata": {},
   "outputs": [],
   "source": [
    "df['domain'] = df['url'].apply(get_domain)"
   ]
  },
  {
   "cell_type": "code",
   "execution_count": 23,
   "id": "f70c9b8c",
   "metadata": {},
   "outputs": [],
   "source": [
    "df['score'] = df.apply(lambda x: similarity_score(x['domain'], 'microsoft.com'),axis=1)"
   ]
  },
  {
   "cell_type": "markdown",
   "id": "b3e7f346",
   "metadata": {},
   "source": [
    "## Step Three:  Find the Bad Guys!\n",
    "Now that you have the data in the dataframe, see if you can find interesting permutations of the microsoft domain, by looking for different score thresholds.  What did you find?"
   ]
  },
  {
   "cell_type": "code",
   "execution_count": 25,
   "id": "2bac170a",
   "metadata": {},
   "outputs": [
    {
     "data": {
      "text/html": [
       "<div>\n",
       "<style scoped>\n",
       "    .dataframe tbody tr th:only-of-type {\n",
       "        vertical-align: middle;\n",
       "    }\n",
       "\n",
       "    .dataframe tbody tr th {\n",
       "        vertical-align: top;\n",
       "    }\n",
       "\n",
       "    .dataframe thead th {\n",
       "        text-align: right;\n",
       "    }\n",
       "</style>\n",
       "<table border=\"1\" class=\"dataframe\">\n",
       "  <thead>\n",
       "    <tr style=\"text-align: right;\">\n",
       "      <th></th>\n",
       "      <th>id</th>\n",
       "      <th>src_ip</th>\n",
       "      <th>url</th>\n",
       "      <th>bytes</th>\n",
       "      <th>domain</th>\n",
       "      <th>score</th>\n",
       "    </tr>\n",
       "  </thead>\n",
       "  <tbody>\n",
       "    <tr>\n",
       "      <th>19</th>\n",
       "      <td>1679385540000</td>\n",
       "      <td>133.141.41.150</td>\n",
       "      <td>https://microsoft.com/condimentum/id/luctus.jp...</td>\n",
       "      <td>2605</td>\n",
       "      <td>microsoft.com</td>\n",
       "      <td>100</td>\n",
       "    </tr>\n",
       "    <tr>\n",
       "      <th>241</th>\n",
       "      <td>1679394372000</td>\n",
       "      <td>154.239.156.192</td>\n",
       "      <td>http://miсrosoft.com/est/phasellus/sit/amet/er...</td>\n",
       "      <td>1385</td>\n",
       "      <td>miсrosoft.com</td>\n",
       "      <td>92</td>\n",
       "    </tr>\n",
       "    <tr>\n",
       "      <th>296</th>\n",
       "      <td>1679440341000</td>\n",
       "      <td>223.243.164.245</td>\n",
       "      <td>https://microsoft.com/habitasse/platea/dictums...</td>\n",
       "      <td>2038</td>\n",
       "      <td>microsoft.com</td>\n",
       "      <td>100</td>\n",
       "    </tr>\n",
       "    <tr>\n",
       "      <th>303</th>\n",
       "      <td>1679382550000</td>\n",
       "      <td>22.207.178.188</td>\n",
       "      <td>http://microsoft.com/quis/orci/eget/orci/vehic...</td>\n",
       "      <td>561</td>\n",
       "      <td>microsoft.com</td>\n",
       "      <td>100</td>\n",
       "    </tr>\n",
       "    <tr>\n",
       "      <th>315</th>\n",
       "      <td>1679394372000</td>\n",
       "      <td>154.239.156.192</td>\n",
       "      <td>http://miсrosoft.com/est/phasellus/sit/amet/er...</td>\n",
       "      <td>1385</td>\n",
       "      <td>miсrosoft.com</td>\n",
       "      <td>92</td>\n",
       "    </tr>\n",
       "    <tr>\n",
       "      <th>321</th>\n",
       "      <td>1679394372000</td>\n",
       "      <td>154.239.156.192</td>\n",
       "      <td>http://miсrosoft.com/est/phasellus/sit/amet/er...</td>\n",
       "      <td>1385</td>\n",
       "      <td>miсrosoft.com</td>\n",
       "      <td>92</td>\n",
       "    </tr>\n",
       "    <tr>\n",
       "      <th>379</th>\n",
       "      <td>1679426706000</td>\n",
       "      <td>45.175.213.176</td>\n",
       "      <td>http://microsoft.com/eget.jsp?quis=porta</td>\n",
       "      <td>2887</td>\n",
       "      <td>microsoft.com</td>\n",
       "      <td>100</td>\n",
       "    </tr>\n",
       "    <tr>\n",
       "      <th>810</th>\n",
       "      <td>1679410900000</td>\n",
       "      <td>145.24.30.31</td>\n",
       "      <td>http://microsoft.com/blandit/mi/in/porttitor/p...</td>\n",
       "      <td>3916</td>\n",
       "      <td>microsoft.com</td>\n",
       "      <td>100</td>\n",
       "    </tr>\n",
       "  </tbody>\n",
       "</table>\n",
       "</div>"
      ],
      "text/plain": [
       "                id           src_ip  \\\n",
       "19   1679385540000   133.141.41.150   \n",
       "241  1679394372000  154.239.156.192   \n",
       "296  1679440341000  223.243.164.245   \n",
       "303  1679382550000   22.207.178.188   \n",
       "315  1679394372000  154.239.156.192   \n",
       "321  1679394372000  154.239.156.192   \n",
       "379  1679426706000   45.175.213.176   \n",
       "810  1679410900000     145.24.30.31   \n",
       "\n",
       "                                                   url  bytes         domain  \\\n",
       "19   https://microsoft.com/condimentum/id/luctus.jp...   2605  microsoft.com   \n",
       "241  http://miсrosoft.com/est/phasellus/sit/amet/er...   1385  miсrosoft.com   \n",
       "296  https://microsoft.com/habitasse/platea/dictums...   2038  microsoft.com   \n",
       "303  http://microsoft.com/quis/orci/eget/orci/vehic...    561  microsoft.com   \n",
       "315  http://miсrosoft.com/est/phasellus/sit/amet/er...   1385  miсrosoft.com   \n",
       "321  http://miсrosoft.com/est/phasellus/sit/amet/er...   1385  miсrosoft.com   \n",
       "379           http://microsoft.com/eget.jsp?quis=porta   2887  microsoft.com   \n",
       "810  http://microsoft.com/blandit/mi/in/porttitor/p...   3916  microsoft.com   \n",
       "\n",
       "     score  \n",
       "19     100  \n",
       "241     92  \n",
       "296    100  \n",
       "303    100  \n",
       "315     92  \n",
       "321     92  \n",
       "379    100  \n",
       "810    100  "
      ]
     },
     "execution_count": 25,
     "metadata": {},
     "output_type": "execute_result"
    }
   ],
   "source": [
    "df[df['score'] > 80]"
   ]
  },
  {
   "cell_type": "code",
   "execution_count": null,
   "id": "83a73da2",
   "metadata": {},
   "outputs": [],
   "source": []
  }
 ],
 "metadata": {
  "kernelspec": {
   "display_name": "Python 3 (ipykernel)",
   "language": "python",
   "name": "python3"
  },
  "language_info": {
   "codemirror_mode": {
    "name": "ipython",
    "version": 3
   },
   "file_extension": ".py",
   "mimetype": "text/x-python",
   "name": "python",
   "nbconvert_exporter": "python",
   "pygments_lexer": "ipython3",
   "version": "3.8.13"
  }
 },
 "nbformat": 4,
 "nbformat_minor": 5
}
